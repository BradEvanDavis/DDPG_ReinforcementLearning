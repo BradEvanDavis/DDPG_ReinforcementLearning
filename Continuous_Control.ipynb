{
 "cells": [
  {
   "cell_type": "markdown",
   "metadata": {},
   "source": [
    "# Continuous Control\n",
    "--- \n",
    "\n",
    "### One Agent Reacher Solution"
   ]
  },
  {
   "cell_type": "code",
   "execution_count": 1,
   "metadata": {},
   "outputs": [
    {
     "name": "stderr",
     "output_type": "stream",
     "text": [
      "INFO:unityagents:\n",
      "'Academy' started successfully!\n",
      "Unity Academy name: Academy\n",
      "        Number of Brains: 1\n",
      "        Number of External Brains : 1\n",
      "        Lesson number : 0\n",
      "        Reset Parameters :\n",
      "\t\tgoal_speed -> 1.0\n",
      "\t\tgoal_size -> 5.0\n",
      "Unity brain name: ReacherBrain\n",
      "        Number of Visual Observations (per agent): 0\n",
      "        Vector Observation space type: continuous\n",
      "        Vector Observation space size (per agent): 33\n",
      "        Number of stacked Vector Observation: 1\n",
      "        Vector Action space type: continuous\n",
      "        Vector Action space size (per agent): 4\n",
      "        Vector Action descriptions: , , , \n"
     ]
    }
   ],
   "source": [
    "from unityagents import UnityEnvironment\n",
    "import numpy as np\n",
    "\n",
    "# select this option to load version 1 (with a single agent) of the environment\n",
    "\n",
    "env = UnityEnvironment(file_name='.\\Reacher1\\Reacher.exe', no_graphics=False)\n",
    "\n",
    "# select this option to load version 2 (with 20 agents) of the environment\n",
    "#env = UnityEnvironment(file_name='/data/Reacher_Linux_NoVis/Reacher.x86_64')"
   ]
  },
  {
   "cell_type": "markdown",
   "metadata": {},
   "source": [
    "Define environment **_brains_** which are responsible for deciding the actions of their associated agents. Below checks for the first brain available, and set it as the default brain we will be controlling from Python."
   ]
  },
  {
   "cell_type": "code",
   "execution_count": 2,
   "metadata": {},
   "outputs": [],
   "source": [
    "# get the default brain\n",
    "brain_name = env.brain_names[0]\n",
    "brain = env.brains[brain_name]"
   ]
  },
  {
   "cell_type": "markdown",
   "metadata": {},
   "source": [
    "### Examine the State and Action Spaces:\n",
    "\n",
    "cells below print some information about the environment."
   ]
  },
  {
   "cell_type": "code",
   "execution_count": 3,
   "metadata": {},
   "outputs": [
    {
     "name": "stdout",
     "output_type": "stream",
     "text": [
      "Number of agents: 1\n",
      "Size of each action: 4\n",
      "There are 1 agents. Each observes a state with length: 33\n",
      "The state for the first agent looks like: [ 0.00000000e+00 -4.00000000e+00  0.00000000e+00  1.00000000e+00\n",
      " -0.00000000e+00 -0.00000000e+00 -4.37113883e-08  0.00000000e+00\n",
      "  0.00000000e+00  0.00000000e+00  0.00000000e+00  0.00000000e+00\n",
      "  0.00000000e+00  0.00000000e+00 -1.00000000e+01  0.00000000e+00\n",
      "  1.00000000e+00 -0.00000000e+00 -0.00000000e+00 -4.37113883e-08\n",
      "  0.00000000e+00  0.00000000e+00  0.00000000e+00  0.00000000e+00\n",
      "  0.00000000e+00  0.00000000e+00  5.75471878e+00 -1.00000000e+00\n",
      "  5.55726671e+00  0.00000000e+00  1.00000000e+00  0.00000000e+00\n",
      " -1.68164849e-01]\n"
     ]
    }
   ],
   "source": [
    "# reset the environment\n",
    "env_info = env.reset(train_mode=True)[brain_name]\n",
    "\n",
    "# number of agents\n",
    "num_agents = len(env_info.agents)\n",
    "print('Number of agents:', num_agents)\n",
    "\n",
    "# size of each action\n",
    "action_size = brain.vector_action_space_size\n",
    "print('Size of each action:', action_size)\n",
    "\n",
    "# examine the state space \n",
    "states = env_info.vector_observations\n",
    "state_size = states.shape[1]\n",
    "scores = np.zeros(num_agents)\n",
    "print('There are {} agents. Each observes a state with length: {}'.format(states.shape[0], state_size))\n",
    "print('The state for the first agent looks like:', states[0])"
   ]
  },
  {
   "cell_type": "markdown",
   "metadata": {},
   "source": [
    "### Create Checkpoint to Save Agent Parameters"
   ]
  },
  {
   "cell_type": "code",
   "execution_count": 4,
   "metadata": {},
   "outputs": [],
   "source": [
    "from agent import Agent\n",
    "import random\n",
    "import torch\n",
    "from collections import deque\n",
    "import matplotlib.pyplot as plt\n",
    "import time\n",
    "%matplotlib inline\n",
    "\n",
    "\n",
    "def save_checkpoint(model, optimizer, save_path, episode_num, \n",
    "                    min_scores,mean_scores, max_scores, moving_avgs, \n",
    "                    scores_window, best_score, duration):\n",
    "        \n",
    "    checkpointRes = {'model_state_dict': model.state_dict(),\n",
    "        'optimizer_state_dict': optimizer.state_dict(),\n",
    "        'episode_num': episode_num,\n",
    "        'mean_scores': mean_scores,\n",
    "        'min_scores': min_scores,\n",
    "        'max_scores': max_scores,\n",
    "        'moving_avgs': moving_avgs,\n",
    "        'scores_window': scores_window,\n",
    "        'best_score': best_score,\n",
    "        'duration': duration}\n",
    "    \n",
    "    torch.save(checkpointRes, save_path)"
   ]
  },
  {
   "cell_type": "markdown",
   "metadata": {},
   "source": [
    "### Define Training Routine"
   ]
  },
  {
   "cell_type": "code",
   "execution_count": 22,
   "metadata": {},
   "outputs": [],
   "source": [
    "def ddpg(n_episodes=600, max_t=1000, train=True, num_agents=num_agents, print_every=2, train_mode=True, \n",
    "         load=False, actor_loadFile=None, critic_loadFile=None):\n",
    "    \n",
    "        \n",
    "    #--------------------------------------------------------------------------------------------------#\n",
    "    solved = False\n",
    "    counter = 0\n",
    "    if load==True and counter==0:\n",
    "        \n",
    "        actor_load = torch.load(actor_loadFile)\n",
    "        critic_load = torch.load(critic_loadFile)\n",
    "        stats = torch.load(critic_loadFile)\n",
    "        \n",
    "        mean_scores = stats['mean_scores']\n",
    "        min_scores = stats['min_scores']\n",
    "        max_scores = stats['max_scores']\n",
    "        best_score = stats['best_score']\n",
    "        moving_avgs = stats['moving_avgs']\n",
    "        duration = stats['duration']\n",
    "        episode_start = stats['episode_num']\n",
    "        scores_window = stats['scores_window']\n",
    "        \n",
    "        agent.actor_local.load_state_dict(actor_load['model_state_dict'])\n",
    "        agent.actor_optimizer.load_state_dict(actor_load['optimizer_state_dict'])\n",
    "        \n",
    "        agent.critic_local.load_state_dict(critic_load['model_state_dict'])\n",
    "        agent.critic_optimizer.load_state_dict(critic_load['optimizer_state_dict'])\n",
    "  \n",
    "    elif load==False and counter==0:\n",
    "        \n",
    "        mean_scores = []\n",
    "        min_scores = []\n",
    "        max_scores = []\n",
    "        best_score = -np.inf\n",
    "        scores_window = deque(maxlen=100)\n",
    "        moving_avgs = []\n",
    "        duration = 0\n",
    "        episode_start = 0\n",
    "        episode_num = 0\n",
    "        best_score = -np.inf\n",
    "        \n",
    "    #-----------------------------------------------------------------------------------------------------#\n",
    "    \n",
    "    for i_episode in range(1, n_episodes+1):\n",
    "        env_info = env.reset(train_mode=True)[brain_name]\n",
    "        states = env_info.vector_observations\n",
    "        scores = np.zeros(num_agents)\n",
    "        agent.reset()\n",
    "        start_time = time.time()\n",
    "        counter += 1\n",
    "        episode_num = episode_start + counter\n",
    "\n",
    "        for t in range(max_t): \n",
    "            actions = agent.act(states, add_noise=True)\n",
    "            env_info = env.step(actions)[brain_name]     # send the action to the environment\n",
    "            next_states = env_info.vector_observations   # get the next state\n",
    "            rewards = env_info.rewards                   # get the reward\n",
    "            dones = env_info.local_done                  # see if episode has finished\n",
    "        \n",
    "            for state, action, reward, next_state, done in zip(states, actions, rewards, next_states, dones):\n",
    "                agent.step(state, action, rewards, next_state, done, t, episode_num)\n",
    "                \n",
    "            states = next_states\n",
    "            scores += rewards\n",
    "            if np.any(dones):\n",
    "                break\n",
    "\n",
    "        duration += time.time() - start_time\n",
    "        min_scores.append(np.min(scores))\n",
    "        max_scores.append(np.max(scores))\n",
    "        mean_scores.append(np.mean(scores))\n",
    "        scores_window.append(mean_scores[-1])\n",
    "        moving_avgs.append(np.mean(scores_window))\n",
    "        best_score = max(best_score, np.max(scores))\n",
    "                \n",
    "        if episode_num % print_every == 0:\n",
    "            print('\\rEpisode {}, Mean last 100: {:.2f}, Mean current: {:.2f}, Max: {:.2f}, Min: {:.2f}, Best_Score {:.2f}, Time: {:.2f}'\\\n",
    "                .format(episode_num, moving_avgs[-1], mean_scores[-1], \n",
    "                        max_scores[-1], min_scores[-1], best_score, \n",
    "                        round(duration/60,2), end=\"\\n\"))\n",
    "            \n",
    "            \n",
    "            save_checkpoint(agent.actor_local, agent.actor_optimizer, 'checkpoint_actor.pth', \n",
    "                            episode_num=episode_num, min_scores=min_scores,\n",
    "                            mean_scores=mean_scores, max_scores=max_scores, \n",
    "                            moving_avgs=moving_avgs, scores_window=scores_window, \n",
    "                            best_score=best_score, duration=duration)\n",
    "            \n",
    "            save_checkpoint(agent.critic_local, agent.critic_optimizer, 'checkpoint_critic.pth', \n",
    "                            episode_num=episode_num, min_scores=min_scores,\n",
    "                            mean_scores=mean_scores, max_scores=max_scores, \n",
    "                            moving_avgs=moving_avgs, scores_window=scores_window, \n",
    "                            best_score=best_score, duration=duration)\n",
    "            \n",
    "        if moving_avgs[-1]>=30.0 and solved==False:\n",
    "            solved = True\n",
    "            print('\\n')\n",
    "            print('\\nEnvironment solved in {:d} episodes with an 100 turn Moving Average Score of {:.2f} over 100 turns'.format(episode_num, moving_avgs[-1]))\n",
    "            print('\\n')\n",
    "    \n",
    "            save_checkpoint(agent.actor_local, agent.actor_optimizer, 'checkpoint_actor_best.pth', \n",
    "                            episode_num=episode_num, min_scores=min_scores,\n",
    "                            mean_scores=mean_scores, max_scores=max_scores, \n",
    "                            moving_avgs=moving_avgs, scores_window=scores_window, \n",
    "                            best_score=best_score, duration=duration)\n",
    "            \n",
    "            save_checkpoint(agent.critic_local, agent.critic_optimizer, 'checkpoint_critic_best.pth', \n",
    "                            episode_num=episode_num, min_scores=min_scores,\n",
    "                            mean_scores=mean_scores, max_scores=max_scores, \n",
    "                            moving_avgs=moving_avgs, scores_window=scores_window, \n",
    "                            best_score=best_score, duration=duration)\n",
    "    \n",
    "    return mean_scores, moving_avgs, max_scores, min_scores"
   ]
  },
  {
   "cell_type": "code",
   "execution_count": 21,
   "metadata": {
    "scrolled": true
   },
   "outputs": [
    {
     "name": "stdout",
     "output_type": "stream",
     "text": [
      "\n",
      "\n",
      "\n",
      "Environment solved in 151 episodes with an Average Score of 30.02\n",
      "\n",
      "\n"
     ]
    }
   ],
   "source": [
    "actor_loadFile = 'checkpoint_actor_150_solved.pth'\n",
    "critic_loadFile = 'checkpoint_critic_150_solved.pth'\n",
    "\n",
    "agent = Agent(state_size=state_size, action_size=action_size, random_seed=44)\n",
    "mean_scores, moving_avgs, max_scores, min_scores = ddpg(load=True, actor_loadFile=actor_loadFile, critic_loadFile=critic_loadFile )"
   ]
  },
  {
   "cell_type": "code",
   "execution_count": 34,
   "metadata": {},
   "outputs": [
    {
     "data": {
      "text/plain": [
       "[<matplotlib.lines.Line2D at 0x1afb6463c18>]"
      ]
     },
     "execution_count": 34,
     "metadata": {},
     "output_type": "execute_result"
    },
    {
     "data": {
      "image/png": "[encoded data removed]",
      "text/plain": [
       "<Figure size 432x288 with 1 Axes>"
      ]
     },
     "metadata": {
      "needs_background": "light"
     },
     "output_type": "display_data"
    }
   ],
   "source": [
    "plt.title(\"Plot of Scores by Training Episode\")\n",
    "plt.ylabel('Score')\n",
    "plt.xlabel('Episode #')\n",
    "plt.plot(mean_scores[:-2])\n",
    "plt.plot(moving_avgs[:-2])\n"
   ]
  }
 ],
 "metadata": {
  "kernelspec": {
   "display_name": "Python 3",
   "language": "python",
   "name": "python3"
  },
  "language_info": {
   "codemirror_mode": {
    "name": "ipython",
    "version": 3
   },
   "file_extension": ".py",
   "mimetype": "text/x-python",
   "name": "python",
   "nbconvert_exporter": "python",
   "pygments_lexer": "ipython3",
   "version": "3.6.7"
  }
 },
 "nbformat": 4,
 "nbformat_minor": 2
}
